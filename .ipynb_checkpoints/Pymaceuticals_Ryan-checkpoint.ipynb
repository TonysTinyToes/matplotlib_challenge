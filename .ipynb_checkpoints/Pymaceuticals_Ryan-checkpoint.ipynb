{
 "cells": [
  {
   "cell_type": "markdown",
   "id": "af73acf1",
   "metadata": {},
   "source": [
    "# Pymaceuticles inc.  - Ryan Kincheloe\n",
    "---\n",
    "\n",
    "### Analysis\n",
    "\n"
   ]
  },
  {
   "cell_type": "code",
   "execution_count": null,
   "id": "dcd40529",
   "metadata": {},
   "outputs": [],
   "source": [
    "# import dependencies\n",
    "import pandas as pd\n",
    "import matplotlib as mp\n"
   ]
  }
 ],
 "metadata": {
  "kernelspec": {
   "display_name": "PythonData",
   "language": "python",
   "name": "pythondata"
  },
  "language_info": {
   "codemirror_mode": {
    "name": "ipython",
    "version": 3
   },
   "file_extension": ".py",
   "mimetype": "text/x-python",
   "name": "python",
   "nbconvert_exporter": "python",
   "pygments_lexer": "ipython3",
   "version": "3.7.7"
  }
 },
 "nbformat": 4,
 "nbformat_minor": 5
}
